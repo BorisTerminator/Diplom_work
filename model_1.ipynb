{
 "cells": [
  {
   "cell_type": "markdown",
   "id": "44c80117",
   "metadata": {},
   "source": [
    "# Модель 1\n",
    "Создание новых фичей.\n",
    "Создание реш деревьев, замер качества."
   ]
  },
  {
   "cell_type": "code",
   "execution_count": 1,
   "id": "26520f41",
   "metadata": {},
   "outputs": [
    {
     "data": {
      "text/html": [
       "<div>\n",
       "<style scoped>\n",
       "    .dataframe tbody tr th:only-of-type {\n",
       "        vertical-align: middle;\n",
       "    }\n",
       "\n",
       "    .dataframe tbody tr th {\n",
       "        vertical-align: top;\n",
       "    }\n",
       "\n",
       "    .dataframe thead th {\n",
       "        text-align: right;\n",
       "    }\n",
       "</style>\n",
       "<table border=\"1\" class=\"dataframe\">\n",
       "  <thead>\n",
       "    <tr style=\"text-align: right;\">\n",
       "      <th></th>\n",
       "      <th>path</th>\n",
       "      <th>avg_volume</th>\n",
       "      <th>last_volume</th>\n",
       "      <th>RSI</th>\n",
       "      <th>Close_price</th>\n",
       "      <th>low_BB</th>\n",
       "      <th>label</th>\n",
       "    </tr>\n",
       "  </thead>\n",
       "  <tbody>\n",
       "    <tr>\n",
       "      <th>0</th>\n",
       "      <td>flet\\рисунок1.png</td>\n",
       "      <td>7966.866085</td>\n",
       "      <td>12490.51852</td>\n",
       "      <td>48.144366</td>\n",
       "      <td>198.93</td>\n",
       "      <td>194.110330</td>\n",
       "      <td>0</td>\n",
       "    </tr>\n",
       "    <tr>\n",
       "      <th>1</th>\n",
       "      <td>flet\\рисунок2.png</td>\n",
       "      <td>7945.199761</td>\n",
       "      <td>8316.19098</td>\n",
       "      <td>44.383995</td>\n",
       "      <td>197.69</td>\n",
       "      <td>194.184096</td>\n",
       "      <td>0</td>\n",
       "    </tr>\n",
       "    <tr>\n",
       "      <th>2</th>\n",
       "      <td>flet\\рисунок3.png</td>\n",
       "      <td>7943.405529</td>\n",
       "      <td>3491.19392</td>\n",
       "      <td>47.226944</td>\n",
       "      <td>198.45</td>\n",
       "      <td>194.224070</td>\n",
       "      <td>0</td>\n",
       "    </tr>\n",
       "    <tr>\n",
       "      <th>3</th>\n",
       "      <td>flet\\рисунок4.png</td>\n",
       "      <td>7937.281092</td>\n",
       "      <td>6059.82812</td>\n",
       "      <td>51.750965</td>\n",
       "      <td>199.63</td>\n",
       "      <td>194.207263</td>\n",
       "      <td>0</td>\n",
       "    </tr>\n",
       "    <tr>\n",
       "      <th>4</th>\n",
       "      <td>flet\\рисунок6.png</td>\n",
       "      <td>4252.434634</td>\n",
       "      <td>13097.24441</td>\n",
       "      <td>33.383814</td>\n",
       "      <td>222.15</td>\n",
       "      <td>219.711943</td>\n",
       "      <td>0</td>\n",
       "    </tr>\n",
       "  </tbody>\n",
       "</table>\n",
       "</div>"
      ],
      "text/plain": [
       "                path   avg_volume  last_volume        RSI  Close_price  \\\n",
       "0  flet\\рисунок1.png  7966.866085  12490.51852  48.144366       198.93   \n",
       "1  flet\\рисунок2.png  7945.199761   8316.19098  44.383995       197.69   \n",
       "2  flet\\рисунок3.png  7943.405529   3491.19392  47.226944       198.45   \n",
       "3  flet\\рисунок4.png  7937.281092   6059.82812  51.750965       199.63   \n",
       "4  flet\\рисунок6.png  4252.434634  13097.24441  33.383814       222.15   \n",
       "\n",
       "       low_BB  label  \n",
       "0  194.110330      0  \n",
       "1  194.184096      0  \n",
       "2  194.224070      0  \n",
       "3  194.207263      0  \n",
       "4  219.711943      0  "
      ]
     },
     "execution_count": 1,
     "metadata": {},
     "output_type": "execute_result"
    }
   ],
   "source": [
    "import pandas as pd\n",
    "df = pd.read_csv('Объединенный датасет.csv')\n",
    "df.head()"
   ]
  },
  {
   "cell_type": "code",
   "execution_count": 7,
   "id": "2e1cb5b2",
   "metadata": {},
   "outputs": [
    {
     "data": {
      "text/plain": [
       "0.02482953895343953"
      ]
     },
     "execution_count": 7,
     "metadata": {},
     "output_type": "execute_result"
    }
   ],
   "source": [
    "(198.93 - 194.110330)/ 194.110330"
   ]
  },
  {
   "cell_type": "markdown",
   "id": "cf75e526",
   "metadata": {},
   "source": [
    "# Создание новых фичей"
   ]
  },
  {
   "cell_type": "code",
   "execution_count": 10,
   "id": "601993ff",
   "metadata": {},
   "outputs": [
    {
     "data": {
      "text/html": [
       "<div>\n",
       "<style scoped>\n",
       "    .dataframe tbody tr th:only-of-type {\n",
       "        vertical-align: middle;\n",
       "    }\n",
       "\n",
       "    .dataframe tbody tr th {\n",
       "        vertical-align: top;\n",
       "    }\n",
       "\n",
       "    .dataframe thead th {\n",
       "        text-align: right;\n",
       "    }\n",
       "</style>\n",
       "<table border=\"1\" class=\"dataframe\">\n",
       "  <thead>\n",
       "    <tr style=\"text-align: right;\">\n",
       "      <th></th>\n",
       "      <th>RSI</th>\n",
       "      <th>close_hier_low_BB</th>\n",
       "      <th>volume_diff_pct</th>\n",
       "      <th>price_diff_pct</th>\n",
       "      <th>label</th>\n",
       "    </tr>\n",
       "  </thead>\n",
       "  <tbody>\n",
       "    <tr>\n",
       "      <th>0</th>\n",
       "      <td>48.144366</td>\n",
       "      <td>1</td>\n",
       "      <td>56.78</td>\n",
       "      <td>2.42</td>\n",
       "      <td>0</td>\n",
       "    </tr>\n",
       "    <tr>\n",
       "      <th>1</th>\n",
       "      <td>44.383995</td>\n",
       "      <td>1</td>\n",
       "      <td>4.67</td>\n",
       "      <td>1.77</td>\n",
       "      <td>0</td>\n",
       "    </tr>\n",
       "    <tr>\n",
       "      <th>2</th>\n",
       "      <td>47.226944</td>\n",
       "      <td>1</td>\n",
       "      <td>-56.05</td>\n",
       "      <td>2.13</td>\n",
       "      <td>0</td>\n",
       "    </tr>\n",
       "    <tr>\n",
       "      <th>3</th>\n",
       "      <td>51.750965</td>\n",
       "      <td>1</td>\n",
       "      <td>-23.65</td>\n",
       "      <td>2.72</td>\n",
       "      <td>0</td>\n",
       "    </tr>\n",
       "    <tr>\n",
       "      <th>4</th>\n",
       "      <td>33.383814</td>\n",
       "      <td>1</td>\n",
       "      <td>207.99</td>\n",
       "      <td>1.10</td>\n",
       "      <td>0</td>\n",
       "    </tr>\n",
       "  </tbody>\n",
       "</table>\n",
       "</div>"
      ],
      "text/plain": [
       "         RSI  close_hier_low_BB  volume_diff_pct  price_diff_pct  label\n",
       "0  48.144366                  1            56.78            2.42      0\n",
       "1  44.383995                  1             4.67            1.77      0\n",
       "2  47.226944                  1           -56.05            2.13      0\n",
       "3  51.750965                  1           -23.65            2.72      0\n",
       "4  33.383814                  1           207.99            1.10      0"
      ]
     },
     "execution_count": 10,
     "metadata": {},
     "output_type": "execute_result"
    }
   ],
   "source": [
    "# 1. Бинаризация: выше или ниже Close_price\n",
    "df[\"close_hier_low_BB\"] = (df[\"Close_price\"] > df[\"low_BB\"]).astype(int)\n",
    "\n",
    "# 2. Относительный объём: во сколько раз last_volume больше среднего (в процентах)\n",
    "df[\"volume_diff_pct\"] = ((df[\"last_volume\"] - df[\"avg_volume\"]) / df[\"avg_volume\"] * 100).round(2)\n",
    "\n",
    "# 3. Показатель в % на сколько высоко цена закрылась выше нижней полоски \n",
    "df[\"price_diff_pct\"] = ((df[\"Close_price\"] - df[\"low_BB\"]) / df[\"Close_price\"] * 100).round(2)\n",
    "\n",
    "new_df = df[['RSI', 'close_hier_low_BB', 'volume_diff_pct', 'price_diff_pct', 'label']].copy()\n",
    "\n",
    "new_df.head()"
   ]
  },
  {
   "cell_type": "markdown",
   "id": "f3881d2c",
   "metadata": {},
   "source": [
    "# Модель "
   ]
  },
  {
   "cell_type": "code",
   "execution_count": 9,
   "id": "8d817594",
   "metadata": {},
   "outputs": [],
   "source": [
    "from catboost import CatBoostClassifier, Pool\n",
    "from sklearn.model_selection import train_test_split\n",
    "from sklearn.metrics import classification_report"
   ]
  },
  {
   "cell_type": "code",
   "execution_count": 13,
   "id": "56599231",
   "metadata": {},
   "outputs": [
    {
     "name": "stdout",
     "output_type": "stream",
     "text": [
      "              precision    recall  f1-score   support\n",
      "\n",
      "           0       0.95      0.95      0.95       177\n",
      "           1       0.93      0.93      0.93       122\n",
      "\n",
      "    accuracy                           0.94       299\n",
      "   macro avg       0.94      0.94      0.94       299\n",
      "weighted avg       0.94      0.94      0.94       299\n",
      "\n"
     ]
    }
   ],
   "source": [
    "\n",
    "y = new_df['label']\n",
    "X = new_df.drop('label', axis=1)\n",
    "\n",
    "# Разделение\n",
    "X_train, X_test, y_train, y_test = train_test_split(X, y, test_size=0.25, random_state=42, shuffle=True)\n",
    "\n",
    "# Обучение модели\n",
    "model = CatBoostClassifier(iterations=100, learning_rate=0.1, depth=3, verbose=False, random_state=42)\n",
    "model.fit(X_train, y_train)\n",
    "\n",
    "# Предсказания\n",
    "y_pred = model.predict(X_test)\n",
    "print(classification_report(y_test, y_pred))\n"
   ]
  },
  {
   "cell_type": "markdown",
   "id": "f2b4b8c6",
   "metadata": {},
   "source": [
    "Краткое описание метрик:\n",
    "precision (точность) — сколько из предсказанных положительных классов действительно верны.\n",
    "\n",
    "recall (полнота) — сколько из реальных положительных классов были правильно найдены.\n",
    "\n",
    "f1-score — гармоническое среднее между точностью и полнотой. Чем ближе к 1, тем лучше.\n",
    "\n",
    "support — количество объектов в каждом классе.\n",
    "\n",
    "📈 Интерпретация по классам:\n",
    "Класс 0 (label=0):\n",
    "Precision: 0.95 — из всех предсказанных \"нулей\", 95% действительно были нулями.\n",
    "\n",
    "Recall: 0.95 — модель нашла 95% всех настоящих нулей.\n",
    "\n",
    "F1-score: 0.95 — высокая сбалансированность между precision и recall.\n",
    "\n",
    "Support: 177 — 177 объектов с меткой 0 в тесте.\n",
    "\n",
    "Класс 1 (label=1):\n",
    "Precision: 0.93, Recall: 0.93, F1-score: 0.93 — также очень хорошие показатели, но чуть ниже, чем у класса 0.\n",
    "\n",
    "Support: 122 — меньше примеров, но модель справилась хорошо.\n",
    "\n",
    "🧮 Общая оценка:\n",
    "Accuracy: 0.94 — модель правильно классифицировала 94% всех примеров.\n",
    "\n",
    "Macro avg: 0.94 — среднее значение по классам без учёта их количества.\n",
    "\n",
    "Weighted avg: 0.94 — среднее значение с учётом того, сколько примеров в каждом классе.\n",
    "\n",
    "✅ Вывод:\n",
    "Модель хорошо сбалансирована, не перекошена в сторону одного класса, и работает стабильно на обоих классах. Это особенно хорошо, если классы несбалансированы (122 vs 177), но результат всё равно ровный."
   ]
  },
  {
   "cell_type": "code",
   "execution_count": null,
   "id": "c4887e21",
   "metadata": {},
   "outputs": [
    {
     "data": {
      "image/png": "[encoded data removed]",
      "text/plain": [
       "<Figure size 600x500 with 2 Axes>"
      ]
     },
     "metadata": {},
     "output_type": "display_data"
    }
   ],
   "source": [
    "# Повтор: исправим количество элементов, чтобы y_true и y_pred совпадали по длине\n",
    "import matplotlib.pyplot as plt\n",
    "import seaborn as sns\n",
    "from sklearn.metrics import confusion_matrix\n",
    "\n",
    "\n",
    "# Построение confusion matrix\n",
    "cm = confusion_matrix(y_test, y_pred)\n",
    "labels = [\"Класс 0 - флет\", \"Класс 1 - тренд\"]\n",
    "\n",
    "# Визуализация\n",
    "plt.figure(figsize=(6, 5))\n",
    "sns.heatmap(cm, annot=True, fmt=\"d\", cmap=\"Blues\", xticklabels=labels, yticklabels=labels)\n",
    "plt.xlabel(\"Предсказанный класс\")\n",
    "plt.ylabel(\"Истинный класс\")\n",
    "plt.title(\"Матрица ошибок (Confusion Matrix)\")\n",
    "plt.tight_layout()\n",
    "plt.show()\n"
   ]
  },
  {
   "cell_type": "code",
   "execution_count": 16,
   "id": "372ed16a",
   "metadata": {},
   "outputs": [],
   "source": [
    "model.save_model(\"Model1_trend_flet.cbm\")\n"
   ]
  },
  {
   "cell_type": "code",
   "execution_count": null,
   "id": "077a947c",
   "metadata": {},
   "outputs": [],
   "source": []
  }
 ],
 "metadata": {
  "kernelspec": {
   "display_name": "Python 3",
   "language": "python",
   "name": "python3"
  },
  "language_info": {
   "codemirror_mode": {
    "name": "ipython",
    "version": 3
   },
   "file_extension": ".py",
   "mimetype": "text/x-python",
   "name": "python",
   "nbconvert_exporter": "python",
   "pygments_lexer": "ipython3",
   "version": "3.9.9"
  }
 },
 "nbformat": 4,
 "nbformat_minor": 5
}
